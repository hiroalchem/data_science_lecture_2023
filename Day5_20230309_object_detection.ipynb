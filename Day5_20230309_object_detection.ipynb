{
  "nbformat": 4,
  "nbformat_minor": 0,
  "metadata": {
    "colab": {
      "provenance": [],
      "authorship_tag": "ABX9TyMLoTAS2JbHP6ZrHfqJDres",
      "include_colab_link": true
    },
    "kernelspec": {
      "name": "python3",
      "display_name": "Python 3"
    },
    "language_info": {
      "name": "python"
    },
    "accelerator": "GPU"
  },
  "cells": [
    {
      "cell_type": "markdown",
      "metadata": {
        "id": "view-in-github",
        "colab_type": "text"
      },
      "source": [
        "<a href=\"https://colab.research.google.com/github/hiroalchem/data_science_lecture_2023/blob/main/Day5_20230309_object_detection.ipynb\" target=\"_parent\"><img src=\"https://colab.research.google.com/assets/colab-badge.svg\" alt=\"Open In Colab\"/></a>"
      ]
    },
    {
      "cell_type": "markdown",
      "source": [
        "# 今日の取り組み   \n",
        "今日はYOLOv5を用いた基本的な物体検出を行ってみます   \n",
        "今回は[こちら](https://public.roboflow.com/object-detection/bccd)のpublicなdatasetを使用します\n"
      ],
      "metadata": {
        "id": "bli-ZLUYCFbm"
      }
    },
    {
      "cell_type": "code",
      "execution_count": null,
      "metadata": {
        "id": "ipHeVv3-BWIA"
      },
      "outputs": [],
      "source": [
        "!curl -L \"https://public.roboflow.com/ds/9iyNSXKJyb?key=PdEmmZM9Mz\" > day5.zip; unzip -d day5 day5.zip; rm day5.zip"
      ]
    },
    {
      "cell_type": "code",
      "source": [
        "%cd day5\n",
        "!ls"
      ],
      "metadata": {
        "id": "3bl9qAdVCXbg"
      },
      "execution_count": null,
      "outputs": []
    },
    {
      "cell_type": "markdown",
      "source": [
        "# 0. 準備\n",
        "## 0-1: 必要なデータのダウンロード\n"
      ],
      "metadata": {
        "id": "0M4CopTJCZEq"
      }
    },
    {
      "cell_type": "code",
      "source": [
        "%cd /content\n",
        "!curl -L \"https://public.roboflow.com/ds/9iyNSXKJyb?key=PdEmmZM9Mz\" > Day5.zip; unzip -d Day5 Day5.zip; rm Day5.zip\n",
        "%cd Day5"
      ],
      "metadata": {
        "id": "ErSrASeznBQQ"
      },
      "execution_count": null,
      "outputs": []
    },
    {
      "cell_type": "markdown",
      "source": [
        "train, valid, testそれぞれのフォルダとdata.yamlが今回使用するものです   \n",
        "Day5    \n",
        "&emsp;  |- train   \n",
        "&emsp;  |- valid   \n",
        "&emsp;  |- test   \n",
        "&emsp;  |- data.yaml"
      ],
      "metadata": {
        "id": "dbv8_KslnKQy"
      }
    },
    {
      "cell_type": "markdown",
      "source": [
        "## 0-2: 必要なライブラリをインストールし、インポートします。\n",
        " "
      ],
      "metadata": {
        "id": "BC-vAEDxEq4Q"
      }
    },
    {
      "cell_type": "code",
      "source": [
        "# /content　に移動します\n",
        "%cd /content"
      ],
      "metadata": {
        "id": "cdUDE6EsEX1g"
      },
      "execution_count": null,
      "outputs": []
    },
    {
      "cell_type": "code",
      "source": [
        "# YOLOv5のリポジトリをcloneします。\n",
        "!git clone https://github.com/ultralytics/yolov5\n",
        "\n",
        "# リポジトリの中に移動\n",
        "%cd yolov5"
      ],
      "metadata": {
        "id": "5fP0_dhHE2El"
      },
      "execution_count": null,
      "outputs": []
    },
    {
      "cell_type": "code",
      "source": [
        "# 必要なライブラリをrequirements.txtを参照してインストールします。\n",
        "# requirements.txtとは、リポジトリで必要なライブラリをまとめておいてくれているテキストファイルです。\n",
        "%pip install -qr requirements.txt\n",
        "\n",
        "# 必要なライブラリをimportします。\n",
        "\n",
        "import torch\n",
        "import os\n",
        "from pathlib import Path\n",
        "from PIL import Image, ImageDraw\n",
        "import matplotlib.pyplot as plt\n",
        "\n",
        "print(f\"Setup complete. Using torch {torch.__version__} ({torch.cuda.get_device_properties(0).name if torch.cuda.is_available() else 'CPU'})\")"
      ],
      "metadata": {
        "id": "yMVQC1zhFFcE"
      },
      "execution_count": null,
      "outputs": []
    },
    {
      "cell_type": "markdown",
      "source": [
        "# 1. データと設定ファイルの確認"
      ],
      "metadata": {
        "id": "S35NaKbmxUjU"
      }
    },
    {
      "cell_type": "markdown",
      "source": [
        "1-1: まず画像とアノテーションを確認します"
      ],
      "metadata": {
        "id": "qHtjF5ZMxZbk"
      }
    },
    {
      "cell_type": "code",
      "source": [
        "# 学習用フォルダ内の画像フォルダとラベルフォルダをpathlib形式で取得しておきます\n",
        "image_dir = Path('/content/Day5/train/images')\n",
        "label_dir = Path('/content/Day5/train/labels')\n",
        "\n",
        "# 画像パスをリストで取得しておきます\n",
        "image_path_list = sorted(list(image_dir.glob('./*.jpg')))\n",
        "\n",
        "#最初の5ファイルを出力\n",
        "print(image_path_list[:5])"
      ],
      "metadata": {
        "id": "1tYqCio884FJ"
      },
      "execution_count": null,
      "outputs": []
    },
    {
      "cell_type": "code",
      "source": [
        "# いくつか必要な関数を作っておきます\n",
        "\n",
        "# xywhをxyxyに変換する関数\n",
        "def xywh2xyxy(xywh):\n",
        "  x1 = xywh[0] - xywh[2]/2\n",
        "  y1 = xywh[1] - xywh[3]/2\n",
        "  x2 = x1 + xywh[2]\n",
        "  y2 = y1 + xywh[3]\n",
        "  return x1, y1, x2, y2\n",
        "\n",
        "# 画像パスとラベルフォルダのパスを渡すとboxを描画して表示してくれる関数\n",
        "def draw_box(image_path, label_dir):\n",
        "  # クラスごとに色を割り当てるためのリストを作っておきます\n",
        "  colors = [(0, 0, 255), (0, 255, 0), (255, 0, 0)]\n",
        "  # ラベルのパスの取得\n",
        "  label_path = label_dir / image_path.with_suffix('.txt').name\n",
        "\n",
        "  # 画像を読み込んでサイズを取得しておきます\n",
        "  im = Image.open(image_path)\n",
        "  width, height = im.size\n",
        "\n",
        "  # 描画するオブジェクトの生成\n",
        "  draw = ImageDraw.Draw(im)\n",
        "\n",
        "  # テキストファイルを1行ずつ読み込む\n",
        "  with open(label_path, 'r') as f:\n",
        "      for line in f.readlines():\n",
        "        label, x, y, w, h = line.split(' ')\n",
        "        # 端点に変換\n",
        "        x1, y1, x2, y2 = xywh2xyxy((float(x), float(y), float(w), float(h)))\n",
        "        # 矩形を書き込みます\n",
        "        # 座標は0~1になっているので、画像の縦横サイズをかけるのを忘れずに\n",
        "        # labelの値から色を割り当てます\n",
        "        draw.rectangle((x1*width, y1*height, x2*width, y2*height), outline=colors[int(label)], width=3)\n",
        "\n",
        "  # 全ての行を読んだら表示\n",
        "  plt.imshow(im)\n"
      ],
      "metadata": {
        "id": "89yRBiVNxSo0"
      },
      "execution_count": null,
      "outputs": []
    },
    {
      "cell_type": "code",
      "source": [
        "# 画像を確認してみます\n",
        "draw_box(image_path_list[2], label_dir)"
      ],
      "metadata": {
        "id": "37qG0x2exSyJ"
      },
      "execution_count": null,
      "outputs": []
    },
    {
      "cell_type": "code",
      "source": [
        "# 学習をします\n",
        "# 画像サイズは 320, バッチサイズ 2, Day5内のdata.yamlを参照, yolov5sを学習, エポックは50にしてみます。\n",
        "!python train.py --img 320 --batch 2 --epochs 50 --data /content/Day5/data.yaml --weights yolov5s.pt --cache"
      ],
      "metadata": {
        "id": "PLljvsmRDEBK"
      },
      "execution_count": null,
      "outputs": []
    },
    {
      "cell_type": "code",
      "source": [
        "# val.pyで評価ができます。\n",
        "# runs/train/にexpフォルダができています。その中で最高の性能であるbest.ptを選択します。\n",
        "\n",
        "!python val.py --weights /content/yolov5/runs/train/exp/weights/best.pt --img 320 --data /content/Day5/data.yaml"
      ],
      "metadata": {
        "id": "hMdZJuDbEg-H"
      },
      "execution_count": null,
      "outputs": []
    },
    {
      "cell_type": "code",
      "source": [
        "# --task test とすることでテストデータも評価できます。\n",
        "!python val.py --task test --weights /content/yolov5/runs/train/exp/weights/best.pt --img 320 --data /content/Day5/data.yaml"
      ],
      "metadata": {
        "id": "ER6v1G1vSP_B"
      },
      "execution_count": null,
      "outputs": []
    },
    {
      "cell_type": "code",
      "source": [
        "# 検出結果を保存するにはdetect.pyを使用します。\n",
        "!python detect.py --weights /content/yolov5/runs/train/exp/weights/best.pt --img 320 --source  /content/Day5/test/images "
      ],
      "metadata": {
        "id": "DTxdpdXjNEqS"
      },
      "execution_count": null,
      "outputs": []
    },
    {
      "cell_type": "code",
      "source": [
        "# 検出結果の画像を確認してみましょう。\n",
        "import glob\n",
        "from IPython.display import Image as iImage\n",
        "from IPython.display import display\n",
        "\n",
        "for imageName in glob.glob('/content/yolov5/runs/detect/exp/*.jpg'):\n",
        "    display(iImage(filename=imageName))\n",
        "    print(\"\\n\")"
      ],
      "metadata": {
        "id": "-wAbj231PSBj"
      },
      "execution_count": null,
      "outputs": []
    },
    {
      "cell_type": "code",
      "source": [],
      "metadata": {
        "id": "z85-xURDPjzq"
      },
      "execution_count": null,
      "outputs": []
    }
  ]
}