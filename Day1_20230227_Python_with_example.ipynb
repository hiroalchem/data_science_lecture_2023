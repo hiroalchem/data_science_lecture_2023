{
  "cells": [
    {
      "cell_type": "markdown",
      "metadata": {
        "id": "view-in-github",
        "colab_type": "text"
      },
      "source": [
        "<a href=\"https://colab.research.google.com/github/hiroalchem/data_science_lecture_2023/blob/main/Day1_20230227_Python_with_example.ipynb\" target=\"_parent\"><img src=\"https://colab.research.google.com/assets/colab-badge.svg\" alt=\"Open In Colab\"/></a>"
      ]
    },
    {
      "cell_type": "markdown",
      "metadata": {
        "id": "3aJeaIP8Olkb"
      },
      "source": [
        "# **0. 準備**\n",
        "\n",
        "ColabとGoogleドライブをリンクさせる"
      ]
    },
    {
      "cell_type": "code",
      "execution_count": null,
      "metadata": {
        "id": "W3HVe5Nc5IqL"
      },
      "outputs": [],
      "source": [
        "from google.colab import drive\n",
        "drive.mount('/content/drive')"
      ]
    },
    {
      "cell_type": "code",
      "execution_count": null,
      "metadata": {
        "id": "Uvq558SKXlYe"
      },
      "outputs": [],
      "source": [
        "# シャープで始まる行はコメント行になります\n",
        "# 自分のドライブ内に移動します\n",
        "%cd /content/drive/MyDrive/"
      ]
    },
    {
      "cell_type": "code",
      "execution_count": null,
      "metadata": {
        "id": "aC5xIGzqacqq"
      },
      "outputs": [],
      "source": [
        "import os\n",
        "import pathlib\n",
        "\n",
        "# 講義用のディレクトリを作製\n",
        "os.makedirs('lecture2023/Day1', exist_ok=True)\n",
        "\n",
        "# 講義用のディレクトリに移動\n",
        "%cd ./lecture2023/Day1"
      ]
    },
    {
      "cell_type": "code",
      "execution_count": null,
      "metadata": {
        "id": "zl1BqaZzYlFX"
      },
      "outputs": [],
      "source": [
        "# Unixコマンド\n",
        "# ファイル/ディレクトリを表示させる\n",
        "!ls"
      ]
    },
    {
      "cell_type": "code",
      "execution_count": null,
      "metadata": {
        "id": "sqhU_gjzUl50"
      },
      "outputs": [],
      "source": [
        "# 現在地の確認\n",
        "!pwd"
      ]
    },
    {
      "cell_type": "markdown",
      "metadata": {
        "id": "JV2DjLoQOYg7"
      },
      "source": [
        "# **1. Pythonの超基本**"
      ]
    },
    {
      "cell_type": "markdown",
      "metadata": {
        "id": "cSvevPL8ZcWs"
      },
      "source": [
        "## 文字を表示する、計算する"
      ]
    },
    {
      "cell_type": "markdown",
      "metadata": {
        "id": "pOw5k5knXKq0"
      },
      "source": [
        "文字の表示"
      ]
    },
    {
      "cell_type": "code",
      "execution_count": null,
      "metadata": {
        "id": "EcjDuBqfXMNE"
      },
      "outputs": [],
      "source": [
        "# Pythonのコードがクラウドに送信され実行される\n",
        "# Pythonのprint関数では、文字/数字などを表示できる\n",
        "print(\"Hello\")"
      ]
    },
    {
      "cell_type": "code",
      "execution_count": null,
      "metadata": {
        "id": "2XmfY7_SiKfu"
      },
      "outputs": [],
      "source": [
        "print(\"A\", \"B\", \"C\")"
      ]
    },
    {
      "cell_type": "code",
      "execution_count": null,
      "metadata": {
        "id": "VztVJxz1iWvM"
      },
      "outputs": [],
      "source": [
        "print(\"A\", \"B\", \"C\", sep=\"-\")"
      ]
    },
    {
      "cell_type": "code",
      "execution_count": null,
      "metadata": {
        "id": "_FXkMWC7icqQ"
      },
      "outputs": [],
      "source": [
        "print(\"A\", \"B\", \"C\", sep=\"\")"
      ]
    },
    {
      "cell_type": "markdown",
      "metadata": {
        "id": "V0UXZY9qW-lN"
      },
      "source": [
        "計算"
      ]
    },
    {
      "cell_type": "code",
      "execution_count": null,
      "metadata": {
        "id": "qeewma1YUVVq"
      },
      "outputs": [],
      "source": [
        "1+1"
      ]
    },
    {
      "cell_type": "code",
      "execution_count": null,
      "metadata": {
        "id": "08wrY33KW6sT"
      },
      "outputs": [],
      "source": [
        "25 * 6"
      ]
    },
    {
      "cell_type": "code",
      "execution_count": null,
      "metadata": {
        "id": "38dMeHd7XCaz"
      },
      "outputs": [],
      "source": [
        "100/5"
      ]
    },
    {
      "cell_type": "code",
      "source": [
        "100/3"
      ],
      "metadata": {
        "id": "8H2s_Nlnl5Ug"
      },
      "execution_count": null,
      "outputs": []
    },
    {
      "cell_type": "code",
      "source": [
        "100//3"
      ],
      "metadata": {
        "id": "9AJaZ8YtXqEB"
      },
      "execution_count": null,
      "outputs": []
    },
    {
      "cell_type": "code",
      "execution_count": null,
      "metadata": {
        "id": "umYuhtJ0XEwh"
      },
      "outputs": [],
      "source": [
        "100%3"
      ]
    },
    {
      "cell_type": "markdown",
      "metadata": {
        "id": "w6xGXbgAurwJ"
      },
      "source": [
        "変数"
      ]
    },
    {
      "cell_type": "code",
      "execution_count": null,
      "metadata": {
        "id": "25bKWeZ4b-SU"
      },
      "outputs": [],
      "source": [
        "#「a」を変数と呼ぶ\n",
        "# aという変数を用意し、そこに7という値を代入\n",
        "a = 7"
      ]
    },
    {
      "cell_type": "code",
      "execution_count": null,
      "metadata": {
        "id": "Efxkfu7OgOVL"
      },
      "outputs": [],
      "source": [
        "# 変数の中身を表示\n",
        "a"
      ]
    },
    {
      "cell_type": "code",
      "execution_count": null,
      "metadata": {
        "id": "2IxVSwjtgdgK"
      },
      "outputs": [],
      "source": [
        "print(a)"
      ]
    },
    {
      "cell_type": "code",
      "execution_count": null,
      "metadata": {
        "id": "-pSj8YDHj29-"
      },
      "outputs": [],
      "source": [
        "print(\"a\")"
      ]
    },
    {
      "cell_type": "code",
      "source": [
        "print(\"a\")\n",
        "print('a')"
      ],
      "metadata": {
        "id": "UJpT6lvYl9dV"
      },
      "execution_count": null,
      "outputs": []
    },
    {
      "cell_type": "markdown",
      "metadata": {
        "id": "pE_FWyh5u5gC"
      },
      "source": [
        "変数の型"
      ]
    },
    {
      "cell_type": "markdown",
      "metadata": {
        "id": "wqoTPoAZvEwR"
      },
      "source": [
        "真偽値(bool) ・・・ 真(True/1)か偽(False/0)しか取れない型\n",
        "\n",
        "int型 ・・・ 整数値\n",
        "\n",
        "float型 ・・・ 浮動小数点数\n",
        "\n",
        "complex型 ・・・ 複素数\n",
        "\n",
        "str型 ・・・ 文字列"
      ]
    },
    {
      "cell_type": "code",
      "execution_count": null,
      "metadata": {
        "id": "LZZQeSrhu8Hb"
      },
      "outputs": [],
      "source": [
        "# type()\n",
        "type(a)"
      ]
    },
    {
      "cell_type": "code",
      "execution_count": null,
      "metadata": {
        "id": "vpuu26K_vpW4"
      },
      "outputs": [],
      "source": [
        "# クォーテーションマークで囲まれたものは文字列になる\n",
        "type(\"a\")"
      ]
    },
    {
      "cell_type": "code",
      "execution_count": null,
      "metadata": {
        "id": "JNM-8ehxjSVj"
      },
      "outputs": [],
      "source": [
        "type(3)"
      ]
    },
    {
      "cell_type": "code",
      "execution_count": null,
      "metadata": {
        "id": "ujOFztgfjVEG"
      },
      "outputs": [],
      "source": [
        "type(3.14)"
      ]
    },
    {
      "cell_type": "code",
      "execution_count": null,
      "metadata": {
        "id": "fPdwkkpWjX9N"
      },
      "outputs": [],
      "source": [
        "# 型を変換できる\n",
        "int(3.14)"
      ]
    },
    {
      "cell_type": "code",
      "source": [
        "float(int(3.14))"
      ],
      "metadata": {
        "id": "04DZgNyomBB6"
      },
      "execution_count": null,
      "outputs": []
    },
    {
      "cell_type": "markdown",
      "metadata": {
        "id": "SgcvLnFuZW7p"
      },
      "source": [
        "## 条件分岐\n",
        "\n",
        "> if 条件式A:</br>\n",
        "> &nbsp;&nbsp;&nbsp;&nbsp;条件式Aが真（true/1）の場合に実行する処理</br>\n",
        "> elif 条件式B:</br>\n",
        "> &nbsp;&nbsp;&nbsp;&nbsp;条件式Aが偽（false/0）で条件式Bが真（true/1）の場合に実行する処理</br>\n",
        "> else:</br>\n",
        "> &nbsp;&nbsp;&nbsp;&nbsp;すべての条件式が偽（false/0）の場合に実行する処理</br>\n"
      ]
    },
    {
      "cell_type": "code",
      "execution_count": null,
      "metadata": {
        "id": "HbgubXwtjogL"
      },
      "outputs": [],
      "source": [
        "print(a)"
      ]
    },
    {
      "cell_type": "code",
      "execution_count": null,
      "metadata": {
        "id": "2NZm9_POUWjA"
      },
      "outputs": [],
      "source": [
        "# 条件： ==, !=, >, >=, <, <=, is, is not, in, not in, and, not\n",
        "if a == 10:\n",
        "  print(\"aは10です\")\n",
        "else:\n",
        "  print(\"aは10ではありません\")"
      ]
    },
    {
      "cell_type": "markdown",
      "metadata": {
        "id": "md-tYQdgZT5x"
      },
      "source": [
        "## 繰り返し処理\n",
        "\n",
        "> for 変数 in オブジェクト:\n",
        ">\n",
        "> &nbsp;&nbsp;&nbsp;&nbsp;実行する処理"
      ]
    },
    {
      "cell_type": "code",
      "execution_count": null,
      "metadata": {
        "id": "ZiofiggfUXbG"
      },
      "outputs": [],
      "source": [
        "# iの値を0から9まで変化させながら、print(i)を実行する\n",
        "for i in range(10):\n",
        "  print(i)"
      ]
    },
    {
      "cell_type": "code",
      "execution_count": null,
      "metadata": {
        "id": "i3BOCQX5ija4"
      },
      "outputs": [],
      "source": [
        "# 上記と同じ\n",
        "# [1,2,3,4]をリスト(配列)と呼ぶ\n",
        "for i in [0,1,2,3,4,5,6,7,8,9]:\n",
        "  print(i)"
      ]
    },
    {
      "cell_type": "code",
      "execution_count": null,
      "metadata": {
        "id": "c-3NgzuGitEm"
      },
      "outputs": [],
      "source": [
        "for i in [0,0,0,2,4,5,6,7,8]:\n",
        "  print(i)"
      ]
    },
    {
      "cell_type": "code",
      "execution_count": null,
      "metadata": {
        "id": "Da9rJR1EiX7Z"
      },
      "outputs": [],
      "source": [
        "# for文ととif文の組み合わせ\n",
        "for i in range(10):\n",
        "  if i%2 == 1:\n",
        "    print(i)"
      ]
    },
    {
      "cell_type": "code",
      "execution_count": null,
      "metadata": {
        "id": "VDIbMsb8hwVc"
      },
      "outputs": [],
      "source": [
        "for i in range(10):\n",
        "  if i%2:\n",
        "    print(i)"
      ]
    },
    {
      "cell_type": "code",
      "execution_count": null,
      "metadata": {
        "id": "bMeLSIf9jjNz"
      },
      "outputs": [],
      "source": [
        "# 文字列でもOK\n",
        "for i in [\"Chemistry\", \"&\", \"Biotechnology\"]:\n",
        "  print(i)"
      ]
    },
    {
      "cell_type": "code",
      "execution_count": null,
      "metadata": {
        "id": "Kyy7XUpkyJDU"
      },
      "outputs": [],
      "source": [
        "# 配列を作製\n",
        "aaa = [\"Chemistry\", \"&\", \"Biotechnology\"]"
      ]
    },
    {
      "cell_type": "code",
      "execution_count": null,
      "metadata": {
        "id": "fuI5i-OhyOMf"
      },
      "outputs": [],
      "source": [
        "# 配列の要素にアクセス\n",
        "# 要素の先頭は「0」であることに注意\n",
        "print(aaa[0])"
      ]
    },
    {
      "cell_type": "markdown",
      "metadata": {
        "id": "pohiCGzEkaQX"
      },
      "source": [
        "もう１つの繰り返し構文\n",
        "\n",
        "> while 条件:\n",
        ">\n",
        "> &nbsp;&nbsp;&nbsp;&nbsp;処理\n",
        "\n",
        "\n",
        "\n"
      ]
    },
    {
      "cell_type": "code",
      "execution_count": null,
      "metadata": {
        "id": "kFrIr1Dnki9a"
      },
      "outputs": [],
      "source": [
        "b = 10\n",
        "while b > 0:\n",
        "  print(b)\n",
        "  b -= 1 # 一周するごとにbを「-1」する"
      ]
    },
    {
      "cell_type": "markdown",
      "metadata": {
        "id": "HdCzCqHwZtTW"
      },
      "source": [
        "## 関数\n",
        "\n",
        "Pythonでは、よく使う処理を 関数 (function) という形で定義し、何度も利用することができる。"
      ]
    },
    {
      "cell_type": "code",
      "execution_count": null,
      "metadata": {
        "id": "YWDuk4FFUYGg"
      },
      "outputs": [],
      "source": [
        "def hello():\n",
        "  print(\"Hello!\")"
      ]
    },
    {
      "cell_type": "code",
      "execution_count": null,
      "metadata": {
        "id": "dZUoTwAcliWA"
      },
      "outputs": [],
      "source": [
        "hello()"
      ]
    },
    {
      "cell_type": "code",
      "execution_count": null,
      "metadata": {
        "id": "8J7sCQTllqEd"
      },
      "outputs": [],
      "source": [
        "def add(a, b):\n",
        "  return a + b"
      ]
    },
    {
      "cell_type": "code",
      "execution_count": null,
      "metadata": {
        "id": "ZBGa7ydglvmK"
      },
      "outputs": [],
      "source": [
        "add(10, 6)"
      ]
    },
    {
      "cell_type": "code",
      "source": [
        "c = add(10, 6)"
      ],
      "metadata": {
        "id": "bpOhBVDOmIju"
      },
      "execution_count": null,
      "outputs": []
    },
    {
      "cell_type": "code",
      "source": [
        "print(c)"
      ],
      "metadata": {
        "id": "Lc-wtbFGmIoW"
      },
      "execution_count": null,
      "outputs": []
    },
    {
      "cell_type": "markdown",
      "metadata": {
        "id": "fRvXVsOFnNg_"
      },
      "source": [
        "変数の有効範囲（スコープ）について"
      ]
    },
    {
      "cell_type": "code",
      "execution_count": null,
      "metadata": {
        "id": "btMFA-a9nVHX"
      },
      "outputs": [],
      "source": [
        "a = 100"
      ]
    },
    {
      "cell_type": "code",
      "execution_count": null,
      "metadata": {
        "id": "_YvKOH6OnFwO"
      },
      "outputs": [],
      "source": [
        "def kansu():\n",
        "    a = 9\n",
        "    print(a)\n",
        "\n",
        "kansu()\n",
        "print(a)"
      ]
    },
    {
      "cell_type": "markdown",
      "metadata": {
        "id": "1XJpvJvP0tUq"
      },
      "source": [
        "# **2. 画像処理**\n",
        "画像は画素 (pixel) の羅列で出来上がっている\n",
        "\n",
        "画素の数値の最小値・最大値には種類があるが、よく使われるuint8形式では最小は0、最大は255\n",
        "\n",
        "色情報はチャンネルに分かれている\n",
        "\n",
        "例えば縦横200pixelのRGB画像は200x200pixelの画像3枚で出来上がっているので、200x200x3 = 120000個の数値で出来上がっている\n",
        "\n",
        "pythonにおいてはPIL、scikit-image、opencv といったいくつかの有名な画像処理用のライブラリを活用する\n",
        "\n",
        "scikit-imageとopencvは両方ともnumpyという行列計算用のライブラリの形式で画像を扱うがPILはPIL imageという形式で扱う\n",
        "\n",
        "画像の表示にはmatplotlibと呼ばれるライブラリを使用する (PILは不要)"
      ]
    },
    {
      "cell_type": "code",
      "execution_count": null,
      "metadata": {
        "id": "Zvk8Fvyk2wPy"
      },
      "outputs": [],
      "source": [
        "# ライブラリの読み込み\n",
        "from skimage import io\n",
        "import numpy as np\n",
        "import matplotlib.pyplot as plt"
      ]
    },
    {
      "cell_type": "code",
      "source": [
        "arr = np.random.randint(0, 256, (10, 10, 3), np.uint8) # 0~255のランダムな数値で出来上がった 10x10x3の形状の行列を作成する\n",
        "print(arr) # 出来上がった行列の確認\n",
        "print(arr.shape) # 行列の形状の確認 (10,10,3)"
      ],
      "metadata": {
        "id": "iR_s8BdBVuAB"
      },
      "execution_count": null,
      "outputs": []
    },
    {
      "cell_type": "code",
      "source": [
        "# この行列の型を確認します\n",
        "print(arr.dtype)"
      ],
      "metadata": {
        "id": "XlyNiRr7Win3"
      },
      "execution_count": null,
      "outputs": []
    },
    {
      "cell_type": "code",
      "source": [
        "# 画像としてmatplotlibを用いて表示してみます\n",
        "plt.figure()\n",
        "plt.imshow(arr)"
      ],
      "metadata": {
        "id": "ehso2gOJUzjM"
      },
      "execution_count": null,
      "outputs": []
    },
    {
      "cell_type": "markdown",
      "source": [
        "numpy arrayはスライスと呼ばれる任意範囲の要素を取り出す方法が用意されています"
      ],
      "metadata": {
        "id": "4RyzaVGtfDFU"
      }
    },
    {
      "cell_type": "code",
      "source": [
        "# arrの 4行目2列目0チャネル目の要素を取り出してみます (numpyでは0からインデックスが始まります)\n",
        "print(arr[4,2,0])"
      ],
      "metadata": {
        "id": "ipoaRYIVemhv"
      },
      "execution_count": null,
      "outputs": []
    },
    {
      "cell_type": "code",
      "source": [
        "# 0行目~4行目まで、かつ1列目~3列目、かつ0 ~ 2番目までのチャネルの要素を取り出したいときは以下のように行います\n",
        "# numpyのスライスでは開始のインデックスと終わりのインデックス+1までを指定します\n",
        "#　全要素を取得したい場合は : を使います\n",
        "print(arr[:5, 1:4, :])\n",
        "print(arr[:5, 1:4, :].shape)"
      ],
      "metadata": {
        "id": "embb9Gykf2vg"
      },
      "execution_count": null,
      "outputs": []
    },
    {
      "cell_type": "code",
      "source": [
        "# 縦横サイズやチャネル数を取得して使う時にshapeを使うと便利です\n",
        "height, width, channel = arr.shape\n",
        "print(height)\n",
        "print(width)\n",
        "print(channel)"
      ],
      "metadata": {
        "id": "ri_8CdK9bp9B"
      },
      "execution_count": null,
      "outputs": []
    },
    {
      "cell_type": "code",
      "source": [
        "# scikit-imageを使って画像として保存してみます\n",
        "io.imsave('color_image.png', arr)"
      ],
      "metadata": {
        "id": "or_umNrKd_Dy"
      },
      "execution_count": null,
      "outputs": []
    },
    {
      "cell_type": "code",
      "source": [
        "# ファイル/ディレクトリを表示させる\n",
        "!ls"
      ],
      "metadata": {
        "id": "RGnxl7pZXdgG"
      },
      "execution_count": null,
      "outputs": []
    },
    {
      "cell_type": "code",
      "source": [
        "# scikit-imageを使って画像を読み込んでみます\n",
        "arr = io.imread('color_image.png')"
      ],
      "metadata": {
        "id": "NpiJBbslWYPk"
      },
      "execution_count": null,
      "outputs": []
    },
    {
      "cell_type": "code",
      "source": [
        "# 形状と型を確認します\n",
        "print(arr.shape)\n",
        "print(arr.dtype)"
      ],
      "metadata": {
        "id": "4JcpkecZXBKi"
      },
      "execution_count": null,
      "outputs": []
    },
    {
      "cell_type": "code",
      "source": [
        "# 再度表示してみます\n",
        "plt.figure()\n",
        "plt.imshow(arr)"
      ],
      "metadata": {
        "id": "vOtJBpXiW79x"
      },
      "execution_count": null,
      "outputs": []
    },
    {
      "cell_type": "markdown",
      "metadata": {
        "id": "3LoGK7R_0yMD"
      },
      "source": [
        "### 確認問題1：好きな画像をドライブにアップロードし、読み込み、matplotlibで表示してください"
      ]
    },
    {
      "cell_type": "code",
      "source": [
        "arr = io.imread('/content/drive/MyDrive/lecture2023/Day1/image.png')\n",
        "plt.figure()\n",
        "plt.imshow(arr)"
      ],
      "metadata": {
        "id": "n-rTDtVJmZvM"
      },
      "execution_count": null,
      "outputs": []
    },
    {
      "cell_type": "markdown",
      "metadata": {
        "id": "9NsA-6Ug3aQx"
      },
      "source": [
        "### 確認問題2：画像のパス (ドライブ上での所在地) を渡すと画像の左上1/4を表示してくれる関数を作成してください"
      ]
    },
    {
      "cell_type": "code",
      "source": [
        "def show_quarter_image(image_path):\n",
        "  arr = io.imread(image_path)\n",
        "  h, w, c = arr.shape\n",
        "  new_h = h//4\n",
        "  new_w = w//4\n",
        "  plt.figure()\n",
        "  plt.imshow(arr[:new_h, :new_w, :])"
      ],
      "metadata": {
        "id": "FiE2KjWBa0_L"
      },
      "execution_count": null,
      "outputs": []
    },
    {
      "cell_type": "code",
      "source": [
        "show_quarter_image('/content/drive/MyDrive/lecture2023/Day1/image.png')"
      ],
      "metadata": {
        "id": "GURk8yM9cItP"
      },
      "execution_count": null,
      "outputs": []
    },
    {
      "cell_type": "markdown",
      "source": [
        "### 確認問題3：画像のパス (ドライブ上での所在地) を渡すと画像の左上1/4の画像をRとGとBに分解して順番に3枚表示してくれる関数を作成してください。\n",
        "### なお、それぞれはgrayscaleで表示するものとします。matplotlibでgrayscale画像を表示するには、\n",
        "`plt.imshow(arr, 'gray') `   \n",
        "### のように入力します"
      ],
      "metadata": {
        "id": "L_9q2cnsZNEK"
      }
    },
    {
      "cell_type": "code",
      "source": [
        "def show_rgbsplitted_quarter_image(image_path):\n",
        "  arr = io.imread(image_path)\n",
        "  h, w, c = arr.shape\n",
        "  new_h = h//4\n",
        "  new_w = w//4\n",
        "  for i in range(3):\n",
        "    plt.figure()\n",
        "    plt.imshow(arr[:new_h, :new_w, i], 'gray')"
      ],
      "metadata": {
        "id": "fmUV-3L9cVPC"
      },
      "execution_count": null,
      "outputs": []
    },
    {
      "cell_type": "code",
      "source": [
        "show_rgbsplitted_quarter_image('/content/drive/MyDrive/lecture2023/Day1/image.png')"
      ],
      "metadata": {
        "id": "qS9qgCu3cg7d"
      },
      "execution_count": null,
      "outputs": []
    },
    {
      "cell_type": "markdown",
      "metadata": {
        "id": "v56IZu_nsmRs"
      },
      "source": [
        "# **本日のまとめ**\n",
        "*   Pythonの基本を学びました\n",
        "*   Pythonで画像を扱う方法を学びました\n",
        "\n"
      ]
    }
  ],
  "metadata": {
    "colab": {
      "provenance": [],
      "include_colab_link": true
    },
    "kernelspec": {
      "display_name": "Python 3 (ipykernel)",
      "language": "python",
      "name": "python3"
    },
    "language_info": {
      "codemirror_mode": {
        "name": "ipython",
        "version": 3
      },
      "file_extension": ".py",
      "mimetype": "text/x-python",
      "name": "python",
      "nbconvert_exporter": "python",
      "pygments_lexer": "ipython3",
      "version": "3.7.0"
    }
  },
  "nbformat": 4,
  "nbformat_minor": 0
}