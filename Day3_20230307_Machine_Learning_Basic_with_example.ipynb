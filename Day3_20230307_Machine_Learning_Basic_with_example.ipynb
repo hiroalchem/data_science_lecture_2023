{
  "nbformat": 4,
  "nbformat_minor": 0,
  "metadata": {
    "colab": {
      "provenance": [],
      "authorship_tag": "ABX9TyPEL5e0YnQYGUmmQqzfmFU8",
      "include_colab_link": true
    },
    "kernelspec": {
      "name": "python3",
      "display_name": "Python 3"
    },
    "language_info": {
      "name": "python"
    }
  },
  "cells": [
    {
      "cell_type": "markdown",
      "metadata": {
        "id": "view-in-github",
        "colab_type": "text"
      },
      "source": [
        "<a href=\"https://colab.research.google.com/github/hiroalchem/data_science_lecture_2023/blob/main/Day3_20230307_Machine_Learning_Basic_with_example.ipynb\" target=\"_parent\"><img src=\"https://colab.research.google.com/assets/colab-badge.svg\" alt=\"Open In Colab\"/></a>"
      ]
    },
    {
      "cell_type": "markdown",
      "source": [
        "# 機械学習入門\n",
        "今日は、[Iris Dataset](https://en.wikipedia.org/wiki/Iris_flower_data_set) という有名なデータセットを用いて、基本的な機械学習をやってみます\n",
        "\n",
        "Iris Datasetはあやめという花の花びら、およびがく片の長さと幅の4つの特徴量と3種類のあやめの種類の分類から成ります   \n",
        "今回の目的は、**花びらとがく片の特徴量からあやめの種類をクラス分類できる分類器を作成する**ことです\n",
        "\n",
        "使うライブラリは以下の通り\n",
        "\n",
        "*   scikit-learn: よく使われるpythonの機械学習用ライブラリ\n",
        "*   seaborn: 可視化用ライブラリで、グラフなどの作成などを簡単にできる\n",
        "*   panas: 表計算用ライブラリ\n"
      ],
      "metadata": {
        "id": "iO8RvewQvkU7"
      }
    },
    {
      "cell_type": "code",
      "execution_count": null,
      "metadata": {
        "id": "lZLhHP4imsoP"
      },
      "outputs": [],
      "source": [
        "# 必要なライブラリのimport\n",
        "\n",
        "import pandas as pd\n",
        "import seaborn as sns\n",
        "from sklearn import datasets\n",
        "from sklearn.model_selection import train_test_split\n",
        "from sklearn.ensemble import RandomForestClassifier\n",
        "from sklearn.metrics import accuracy_score, precision_score, recall_score, confusion_matrix"
      ]
    },
    {
      "cell_type": "markdown",
      "source": [
        "# **1. データセットの準備**"
      ],
      "metadata": {
        "id": "1tIZ6gWXyiMf"
      }
    },
    {
      "cell_type": "code",
      "source": [
        "# Iris Dataset は scikit learn で簡単に読み込んで使えるようになっています\n",
        "iris = datasets.load_iris()\n",
        "X, y = iris.data, iris.target"
      ],
      "metadata": {
        "id": "-yJp9GUjq8Rc"
      },
      "execution_count": null,
      "outputs": []
    },
    {
      "cell_type": "code",
      "source": [
        "# 表形式 (pandasのDataFrame) にします\n",
        "# まずは、特徴量を表形式にして確認します\n",
        "df = pd.DataFrame(X, columns=['Sepal Length', 'Sepal Width', 'Petal Length', 'Petal Width'])\n",
        "df"
      ],
      "metadata": {
        "id": "DoMucoA8reQG"
      },
      "execution_count": null,
      "outputs": []
    },
    {
      "cell_type": "code",
      "source": [
        "# 次に目的変数である種類のラベルも入れます\n",
        "df['Species'] = y\n",
        "df"
      ],
      "metadata": {
        "id": "Qs7KiYOkr-2h"
      },
      "execution_count": null,
      "outputs": []
    },
    {
      "cell_type": "code",
      "source": [
        "sns.scatterplot(data=df, x=\"Sepal Length\", y=\"Sepal Width\", hue=\"Species\")"
      ],
      "metadata": {
        "id": "uARO3mEfWaD3"
      },
      "execution_count": null,
      "outputs": []
    },
    {
      "cell_type": "code",
      "source": [
        "# 2変数を取り出して散布図にしてみます\n",
        "sns.scatterplot(data=df, x=\"Sepal Length\", y=\"Sepal Width\", hue=\"Species\", palette=\"tab10\")"
      ],
      "metadata": {
        "id": "dEv-I4_ZsF-N"
      },
      "execution_count": null,
      "outputs": []
    },
    {
      "cell_type": "code",
      "source": [
        "sns.scatterplot(data=df, x=\"Sepal Length\", y=\"Petal Length\", hue=\"Species\", palette=\"tab10\")"
      ],
      "metadata": {
        "id": "7T8Iz3APq2gp"
      },
      "execution_count": null,
      "outputs": []
    },
    {
      "cell_type": "code",
      "source": [
        "sns.scatterplot(data=df, x=\"Petal Length\", y=\"Petal Width\", hue=\"Species\", palette=\"tab10\")"
      ],
      "metadata": {
        "id": "vKTjnjoYW3bc"
      },
      "execution_count": null,
      "outputs": []
    },
    {
      "cell_type": "code",
      "source": [
        "sns.pairplot(data=df, hue=\"Species\", palette=\"tab10\")"
      ],
      "metadata": {
        "id": "VvgeT4W5XNzL"
      },
      "execution_count": null,
      "outputs": []
    },
    {
      "cell_type": "code",
      "source": [
        "# 次に、学習とテスト用にデータセットを分けます\n",
        "X_train, X_test, y_train, y_test = train_test_split(X, y, random_state=123)"
      ],
      "metadata": {
        "id": "WR-zNfKDz0Xe"
      },
      "execution_count": null,
      "outputs": []
    },
    {
      "cell_type": "code",
      "source": [
        "print(\"学習データ数: \", len(X_train))\n",
        "print(\"テストデータ数: \", len(X_test))"
      ],
      "metadata": {
        "id": "QPiOOcy8z5rP"
      },
      "execution_count": null,
      "outputs": []
    },
    {
      "cell_type": "markdown",
      "source": [
        "# **2. 学習**\n",
        "\n",
        "[RandomForest](https://scikit-learn.org/stable/modules/generated/sklearn.ensemble.RandomForestClassifier.html) を使います   \n",
        "詳しくは[こちら](https://people.csail.mit.edu/dsontag/courses/ml16/slides/lecture11.pdf)など"
      ],
      "metadata": {
        "id": "L4cbpwaNypTs"
      }
    },
    {
      "cell_type": "code",
      "source": [
        "# classifierを学習させます\n",
        "classifier = RandomForestClassifier(random_state=321)\n",
        "classifier.fit(X_train, y_train)"
      ],
      "metadata": {
        "id": "s0VxasfsEYbj"
      },
      "execution_count": null,
      "outputs": []
    },
    {
      "cell_type": "code",
      "source": [
        "# 学習させた分類器で推論させます\n",
        "pred = classifier.predict(X_test)\n",
        "\n",
        "# 結果の確認\n",
        "pd.DataFrame({\"GT\": y_test,  \"Prediction\": pred})"
      ],
      "metadata": {
        "id": "u5Jt2UteEbdU"
      },
      "execution_count": null,
      "outputs": []
    },
    {
      "cell_type": "code",
      "source": [
        "# accuracyを出してみます\n",
        "# accuracyは全てのサンプルのうちで正解したサンプルの割合です\n",
        "print(accuracy_score(y_test, pred))"
      ],
      "metadata": {
        "id": "FZcG-F88Fakc"
      },
      "execution_count": null,
      "outputs": []
    },
    {
      "cell_type": "code",
      "source": [
        "# 混同行列を作成します\n",
        "cm = confusion_matrix(y_test, pred)\n",
        "pd.DataFrame(cm, index=['GT_0', 'GT_1', 'GT_2'], columns=['Pred_0', 'Pred_1', 'Pred_2'])"
      ],
      "metadata": {
        "id": "F1I95aHjstoJ"
      },
      "execution_count": null,
      "outputs": []
    },
    {
      "cell_type": "code",
      "source": [
        "# 間違っていたものを2を、それ以外は正解のlabelを振ります\n",
        "labels = []\n",
        "for i in range(len(y_test)):\n",
        "  if (y_test[i] == 2) and (pred[i] == 1):\n",
        "    labels.append(3)\n",
        "  else:\n",
        "    labels.append(y_test[i])"
      ],
      "metadata": {
        "id": "9dI_mu80tdrq"
      },
      "execution_count": null,
      "outputs": []
    },
    {
      "cell_type": "code",
      "source": [
        "# DataFrameにして確認\n",
        "result_df = pd.DataFrame(X_test, columns=['Sepal Length', 'Sepal Width', 'Petal Length', 'Petal Width'])\n",
        "result_df['labels'] = labels\n",
        "result_df"
      ],
      "metadata": {
        "id": "U8cQf1JwuJxI"
      },
      "execution_count": null,
      "outputs": []
    },
    {
      "cell_type": "code",
      "source": [
        "sns.scatterplot(data=result_df, x=\"Sepal Length\", y=\"Petal Length\")"
      ],
      "metadata": {
        "id": "mP16wVUmbfbD"
      },
      "execution_count": null,
      "outputs": []
    },
    {
      "cell_type": "code",
      "source": [
        "# 間違っていたサンプルがどんな特徴量を持っているのか確認してみます\n",
        "sns.scatterplot(data=result_df, x=\"Sepal Length\", y=\"Petal Length\", hue=\"labels\", palette=\"tab10\")"
      ],
      "metadata": {
        "id": "TVDG1TdwuXji"
      },
      "execution_count": null,
      "outputs": []
    },
    {
      "cell_type": "code",
      "source": [
        "sns.scatterplot(data=result_df, x=\"Sepal Length\", y=\"Sepal Width\", hue=\"labels\", palette=\"tab10\")"
      ],
      "metadata": {
        "id": "lASoYmzGue_e"
      },
      "execution_count": null,
      "outputs": []
    },
    {
      "cell_type": "code",
      "source": [
        "sns.pairplot(data=result_df, hue=\"labels\", palette=\"tab10\")"
      ],
      "metadata": {
        "id": "wxaOZNTcbr2C"
      },
      "execution_count": null,
      "outputs": []
    },
    {
      "cell_type": "markdown",
      "source": [
        "### 確認問題： [Support Vector Machine](https://scikit-learn.org/stable/modules/svm.html) を使って分類器を作成し、結果を確認してみてください\n",
        "\n",
        "```\n",
        "from sklearn.svm import SVC\n",
        "classifier = SVC()\n",
        "```\n",
        "\n"
      ],
      "metadata": {
        "id": "ODY-3POA8AtY"
      }
    },
    {
      "cell_type": "code",
      "source": [
        "from sklearn.svm import SVC\n",
        "classifier = SVC(random_state=321)\n",
        "classifier.fit(X_train, y_train)"
      ],
      "metadata": {
        "id": "RuNKLSYx8x0K"
      },
      "execution_count": null,
      "outputs": []
    },
    {
      "cell_type": "code",
      "source": [
        "# 学習させた分類器で推論させます\n",
        "pred = classifier.predict(X_test)\n",
        "\n",
        "# 結果の確認\n",
        "pd.DataFrame({\"GT\": y_test,  \"Prediction\": pred})"
      ],
      "metadata": {
        "id": "rKf-BCrCciaL"
      },
      "execution_count": null,
      "outputs": []
    },
    {
      "cell_type": "code",
      "source": [
        "# accuracyを出してみます\n",
        "# accuracyは全てのサンプルのうちで正解したサンプルの割合です\n",
        "print(accuracy_score(y_test, pred))"
      ],
      "metadata": {
        "id": "r6346Z3acman"
      },
      "execution_count": null,
      "outputs": []
    },
    {
      "cell_type": "code",
      "source": [
        "# 混同行列を作成します\n",
        "cm = confusion_matrix(y_test, pred)\n",
        "pd.DataFrame(cm, index=['GT_0', 'GT_1', 'GT_2'], columns=['Pred_0', 'Pred_1', 'Pred_2'])"
      ],
      "metadata": {
        "id": "OiVhTybMcrii"
      },
      "execution_count": null,
      "outputs": []
    },
    {
      "cell_type": "code",
      "source": [
        "# 間違っていたものを2を、それ以外は正解のlabelを振ります\n",
        "labels = []\n",
        "for i in range(len(y_test)):\n",
        "  if (y_test[i] == 2) and (pred[i] == 1):\n",
        "    labels.append(3)\n",
        "  else:\n",
        "    labels.append(y_test[i])"
      ],
      "metadata": {
        "id": "Xn_HvNrycv9H"
      },
      "execution_count": null,
      "outputs": []
    },
    {
      "cell_type": "code",
      "source": [
        "# DataFrameにして確認\n",
        "result_df = pd.DataFrame(X_test, columns=['Sepal Length', 'Sepal Width', 'Petal Length', 'Petal Width'])\n",
        "result_df['labels'] = labels\n",
        "result_df"
      ],
      "metadata": {
        "id": "4_k_OtUSczEW"
      },
      "execution_count": null,
      "outputs": []
    },
    {
      "cell_type": "code",
      "source": [
        "sns.pairplot(data=result_df, hue=\"labels\", palette=\"tab10\")"
      ],
      "metadata": {
        "id": "2U7CTpATc2S8"
      },
      "execution_count": null,
      "outputs": []
    }
  ]
}